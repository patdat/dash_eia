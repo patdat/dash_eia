{
 "cells": [
  {
   "cell_type": "code",
   "execution_count": null,
   "metadata": {},
   "outputs": [],
   "source": [
    "layout = create_layout(page_id, 'Crude Oil')"
   ]
  },
  {
   "cell_type": "code",
   "execution_count": null,
   "metadata": {},
   "outputs": [],
   "source": [
    "        html.H1(f'{commodity} Stocks', className='eia-weekly-header-title'),\n",
    "        html.Div([\n",
    "            create_loading_graph(f'{page_id}-graph-1'),\n",
    "            create_loading_graph(f'{page_id}-graph-2'),\n",
    "            create_loading_graph(f'{page_id}-graph-3'),\n",
    "            create_loading_graph(f'{page_id}-graph-4'),\n",
    "            create_loading_graph(f'{page_id}-graph-5'),\n",
    "            create_loading_graph(f'{page_id}-graph-6'),\n",
    "        ], className='eia-weekly-graph-container'),\n",
    "\n",
    "        html.H1(f'{commodity} Other Stocks', className='eia-weekly-header-title'),\n",
    "        html.Br(),\n",
    "        html.Div([\n",
    "            create_loading_graph(f'{page_id}-graph-7'),\n",
    "            create_loading_graph(f'{page_id}-graph-8'),\n",
    "            create_loading_graph(f'{page_id}-graph-9'),\n",
    "            create_loading_graph(f'{page_id}-graph-10'),\n",
    "            create_loading_graph(f'{page_id}-graph-11'),\n",
    "        ], className='eia-weekly-graph-container'),"
   ]
  },
  {
   "cell_type": "code",
   "execution_count": null,
   "metadata": {},
   "outputs": [],
   "source": [
    "idents = {\n",
    "    #Crude Stocks\n",
    "    'WCESTUS1': 'US Commercial Stocks (kb)',\n",
    "    'WCESTP11': 'P1 Commercial Stocks (kb)',\n",
    "    'WCESTP21': 'P2 Commercial Stocks (kb)',\n",
    "    'WCESTP31': 'P3 Commercial Stocks (kb)',\n",
    "    'WCESTP41': 'P4 Commercial Stocks (kb)',\n",
    "    'WCESTP51': 'P5 Commercial Stocks (kb)',\n",
    "    # Other Crude Stocks\n",
    "    'W_EPC0_SAX_YCUOK_MBBL': 'Cushing Crude Stocks (kb)',\n",
    "    'crudeStocksP2E': 'P2E Crude Stocks (kb)',\n",
    "    'WCSSTUS1': 'SPR Stocks (kb)',\n",
    "    'W_EPC0_SKA_NUS_MBBL': 'Alaska Crude Stocks (kb)',\n",
    "    'WCRSTUS1': 'Total Stocks (kb)',\n",
    "}"
   ]
  },
  {
   "cell_type": "code",
   "execution_count": null,
   "metadata": {},
   "outputs": [],
   "source": []
  },
  {
   "cell_type": "code",
   "execution_count": null,
   "metadata": {},
   "outputs": [],
   "source": []
  },
  {
   "cell_type": "code",
   "execution_count": 2,
   "metadata": {},
   "outputs": [
    {
     "name": "stdout",
     "output_type": "stream",
     "text": [
      "1\n",
      "2\n",
      "3\n",
      "4\n",
      "5\n",
      "6\n"
     ]
    }
   ],
   "source": [
    "for i in range(1,7):\n",
    "    print(i)"
   ]
  },
  {
   "cell_type": "code",
   "execution_count": 3,
   "metadata": {},
   "outputs": [
    {
     "name": "stdout",
     "output_type": "stream",
     "text": [
      "7\n",
      "8\n",
      "9\n",
      "10\n",
      "11\n",
      "12\n"
     ]
    }
   ],
   "source": [
    "from dash import dcc, html, Input, Output\n",
    "from utils.calculation import create_callbacks, get_initial_data\n",
    "from utils.chooser import checklist_header\n",
    "from app import app\n",
    "import pandas as pd\n",
    "import os\n",
    "\n",
    "def create_loading_graph(graph_id):\n",
    "    return dcc.Loading(\n",
    "        id=f'{graph_id}-loading',\n",
    "        type='dot',\n",
    "        className='custom-loading',\n",
    "        children=html.Div(\n",
    "            dcc.Graph(id=graph_id),\n",
    "            className='graph-container'\n",
    "        )\n",
    "    )\n",
    "\n",
    "def create_graph_section(title, graph_ids):\n",
    "    return html.Div([\n",
    "        html.H1(title, className='eia-weekly-header-title'),\n",
    "        html.Br(),\n",
    "        html.Div([create_loading_graph(graph_id) for graph_id in graph_ids], className='eia-weekly-graph-container')\n",
    "    ])\n",
    "\n",
    "def create_layout(page_id, commodity):\n",
    "    checklist_graph = f'{page_id}-graph-toggle'\n",
    "    checklist_id = f'{page_id}-year-toggle'\n",
    "    toggle_id = f'{page_id}-toggle-range'\n",
    "    checklist_div_id = f'{page_id}-checklist-div'\n",
    "    toggle_div_id = f'{page_id}-toggle-div'\n",
    "\n",
    "    graph_sections = [\n",
    "        ('Production', [f'{page_id}-graph-{i}' for i in range(1, 4)]),\n",
    "    ]\n",
    "\n",
    "    layout = html.Div([\n",
    "        checklist_header(checklist_graph, checklist_id, toggle_id, checklist_div_id, toggle_div_id),\n",
    "        html.Div(className='eia-weekly-top-spacing'),\n",
    "        *[create_graph_section(f'{commodity} {title}', graph_ids) for title, graph_ids in graph_sections]\n",
    "    ], className='eia-weekly-graph-page-layout')\n",
    "\n",
    "    return layout\n",
    "\n",
    "####################################################################################################\n",
    "\n",
    "idents = {\n",
    "    # Crude Runs\n",
    "    'WCRRIUS2': 'US Refinery Runs (kbd)',\n",
    "    'WCRRIP12': 'P1 Refinery Runs (kbd)',\n",
    "    'WCRRIP22': 'P2 Refinery Runs (kbd)',\n",
    "    'WCRRIP32': 'P3 Refinery Runs (kbd)',\n",
    "    'WCRRIP42': 'P4 Refinery Runs (kbd)',\n",
    "    'WCRRIP52': 'P5 Refinery Runs (kbd)',\n",
    "    # Crude Refinery Utilization\n",
    "    'WPULEUS3': 'US Refinery Utilization (%)',\n",
    "    'W_NA_YUP_R10_PER': 'P1 Refinery Utilization (%)',\n",
    "    'W_NA_YUP_R20_PER': 'P2 Refinery Utilization (%)',\n",
    "    'W_NA_YUP_R30_PER': 'P3 Refinery Utilization (%)',\n",
    "    'W_NA_YUP_R40_PER': 'P4 Refinery Utilization (%)',\n",
    "    'W_NA_YUP_R50_PER': 'P5 Refinery Utilization (%)',\n",
    "    # Feedstock Runs\n",
    "    'feedstockRunsUS': 'US Feedstock Runs (kbd)',\n",
    "    'feddStockRunsP1': 'P1 Feedstock Runs (kbd)',\n",
    "    'feedstockRunsP2': 'P2 Feedstock Runs (kbd)',\n",
    "    'feedstockRunsP3': 'P3 Feedstock Runs (kbd)',\n",
    "    'feedstockRunsP4': 'P4 Feedstock Runs (kbd)',\n",
    "    'feedstockRunsP5': 'P5 Feedstock Runs (kbd)',\n",
    "    # Gross Runs\n",
    "    'WGIRIUS2': 'US Gross Runs (kbd)',\n",
    "    'WGIRIP12': 'P1 Gross Runs (kbd)',\n",
    "    'WGIRIP22': 'P2 Gross Runs (kbd)',\n",
    "    'WGIRIP32': 'P3 Gross Runs (kbd)',\n",
    "    'WGIRIP42': 'P4 Gross Runs (kbd)',\n",
    "    'WGIRIP52': 'P5 Gross Runs (kbd)',\n",
    "}\n",
    "\n",
    "idents = list(idents.keys())\n",
    "raw_data = get_initial_data()\n",
    "raw_data = raw_data[['period'] + idents]\n",
    "\n",
    "page_id = os.path.basename(__file__).split('.')[0]\n",
    "num_graphs = len(idents)\n",
    "\n",
    "layout = create_layout(page_id, 'Crude Oil')\n",
    "\n",
    "@app.callback(\n",
    "    [Output(f'{page_id}-checklist-div', 'style'),\n",
    "     Output(f'{page_id}-toggle-div', 'style')],\n",
    "    [Input(f'{page_id}-graph-toggle', 'value')]\n",
    ")\n",
    "def toggle_visibility(toggle_value):\n",
    "    if toggle_value:\n",
    "        return {'display': 'none'}, {'display': 'none'}\n",
    "    else:\n",
    "        return {'display': 'block'}, {'display': 'block'}\n",
    "\n",
    "create_callbacks(app, page_id, num_graphs, idents, raw_data)\n"
   ]
  }
 ],
 "metadata": {
  "kernelspec": {
   "display_name": "base",
   "language": "python",
   "name": "python3"
  },
  "language_info": {
   "codemirror_mode": {
    "name": "ipython",
    "version": 3
   },
   "file_extension": ".py",
   "mimetype": "text/x-python",
   "name": "python",
   "nbconvert_exporter": "python",
   "pygments_lexer": "ipython3",
   "version": "3.11.5"
  }
 },
 "nbformat": 4,
 "nbformat_minor": 2
}
