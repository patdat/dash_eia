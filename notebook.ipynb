{
 "cells": [
  {
   "cell_type": "code",
   "execution_count": null,
   "metadata": {},
   "outputs": [],
   "source": [
    "import pandas as pd\n",
    "\n",
    "def get_dpr_ids():\n",
    "    df = pd.read_feather('./data/steo/steo_pivot.feather')\n",
    "    mapping_dpr = pd.read_csv('./lookup/steo/mapping_dpr.csv')\n",
    "\n",
    "    lst = mapping_dpr['id'].tolist()\n",
    "    lst = list(dict.fromkeys(lst))\n",
    "    \n",
    "    df = df[df['id'].isin(lst)]    \n",
    "    \n",
    "    df.to_feather('data/steo/steo_pivot_dpr.feather')\n",
    "\n",
    "def get_other_dpr_ids():\n",
    "    df = pd.read_feather('./data/steo/steo_pivot.feather')\n",
    "    mapping_dpr = pd.read_csv('./lookup/steo/mapping_dpr.csv')\n",
    "\n",
    "    lst = mapping_dpr['id'].tolist()\n",
    "    lst = list(dict.fromkeys(lst))\n",
    "    \n",
    "    df = df[df['id'].isin(lst)]    \n",
    "    \n",
    "    df.to_feather('data/steo/steo_pivot_dpr_other.feather')\n",
    "\n",
    "def main():\n",
    "    get_dpr_ids()\n",
    "    \n",
    "if __name__ == '__main__':\n",
    "    main()\n"
   ]
  }
 ],
 "metadata": {
  "kernelspec": {
   "display_name": "base",
   "language": "python",
   "name": "python3"
  },
  "language_info": {
   "codemirror_mode": {
    "name": "ipython",
    "version": 3
   },
   "file_extension": ".py",
   "mimetype": "text/x-python",
   "name": "python",
   "nbconvert_exporter": "python",
   "pygments_lexer": "ipython3",
   "version": "3.11.5"
  }
 },
 "nbformat": 4,
 "nbformat_minor": 2
}
