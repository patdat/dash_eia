{
 "cells": [
  {
   "cell_type": "code",
   "execution_count": 149,
   "metadata": {},
   "outputs": [
    {
     "data": {
      "text/html": [
       "\n",
       "        <iframe\n",
       "            width=\"100%\"\n",
       "            height=\"650\"\n",
       "            src=\"http://127.0.0.1:8091/\"\n",
       "            frameborder=\"0\"\n",
       "            allowfullscreen\n",
       "            \n",
       "        ></iframe>\n",
       "        "
      ],
      "text/plain": [
       "<IPython.lib.display.IFrame at 0x3127a7350>"
      ]
     },
     "metadata": {},
     "output_type": "display_data"
    }
   ],
   "source": [
    "import dash\n",
    "from dash import dcc, html\n",
    "import dash_table\n",
    "import pandas as pd\n",
    "import numpy as np\n",
    "from datetime import datetime, timedelta\n",
    "\n",
    "# Generate random data\n",
    "np.random.seed(0)  # For reproducibility\n",
    "dates = [datetime(2023, 12, 1) + timedelta(days=i) for i in range(31)]\n",
    "values = np.random.rand(31)\n",
    "\n",
    "data = pd.DataFrame({\n",
    "    'Date': dates,\n",
    "    'Value': values\n",
    "})\n",
    "\n",
    "# Select 10 random rows from the data\n",
    "sampled_data = data.sample(10).sort_values('Date').reset_index(drop=True)\n",
    "\n",
    "# Insert a blank row\n",
    "blank_row = pd.DataFrame({'Date': [None], 'Value': [None]})\n",
    "sampled_data = pd.concat([sampled_data.iloc[:5], blank_row, sampled_data.iloc[5:]]).reset_index(drop=True)\n",
    "\n",
    "# Create Dash app\n",
    "app = dash.Dash(__name__)\n",
    "\n",
    "# Define layout\n",
    "app.layout = html.Div([\n",
    "    dash_table.DataTable(\n",
    "        id='table',\n",
    "        columns=[{'name': col, 'id': col} for col in sampled_data.columns],\n",
    "        data=sampled_data.to_dict('records'),\n",
    "        style_data_conditional=[\n",
    "            {\n",
    "                'if': {'row_index': 4},\n",
    "                'backgroundColor': 'red',\n",
    "                'color': 'white'\n",
    "            }\n",
    "        ],\n",
    "        style_cell={'textAlign': 'left'},\n",
    "        style_table={'overflowX': 'auto'}\n",
    "    )\n",
    "])\n",
    "\n",
    "if __name__ == '__main__':\n",
    "    app.run_server(debug=True,port=8091)\n"
   ]
  }
 ],
 "metadata": {
  "kernelspec": {
   "display_name": "base",
   "language": "python",
   "name": "python3"
  },
  "language_info": {
   "codemirror_mode": {
    "name": "ipython",
    "version": 3
   },
   "file_extension": ".py",
   "mimetype": "text/x-python",
   "name": "python",
   "nbconvert_exporter": "python",
   "pygments_lexer": "ipython3",
   "version": "3.11.5"
  }
 },
 "nbformat": 4,
 "nbformat_minor": 2
}
