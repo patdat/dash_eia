{
 "cells": [
  {
   "cell_type": "code",
   "execution_count": 29,
   "metadata": {},
   "outputs": [
    {
     "data": {
      "text/html": [
       "\n",
       "        <iframe\n",
       "            width=\"100%\"\n",
       "            height=\"650\"\n",
       "            src=\"http://127.0.0.1:8052/\"\n",
       "            frameborder=\"0\"\n",
       "            allowfullscreen\n",
       "            \n",
       "        ></iframe>\n",
       "        "
      ],
      "text/plain": [
       "<IPython.lib.display.IFrame at 0x177643b50>"
      ]
     },
     "metadata": {},
     "output_type": "display_data"
    }
   ],
   "source": [
    "from utils.table_mapping import *\n",
    "import pandas as pd\n",
    "import dash\n",
    "from dash import dash_table, html\n",
    "\n",
    "def generate_main_table():\n",
    "    df = pd.read_csv('./data/wps_gte_2015_pivot.csv',parse_dates=['period'])\n",
    "    df['period'] = df['period'].dt.strftime('%m/%d')\n",
    "    df = df.tail(2)\n",
    "    df = df.set_index('period')\n",
    "    df = df.T.reset_index()\n",
    "    df['change'] = df.iloc[:,2] - df.iloc[:,1]\n",
    "    df = df.rename(columns={'index':'name'})\n",
    "    df.columns.name = None\n",
    "    return df\n",
    "\n",
    "def generate_dash_table(df, idents, table_id, table_width):\n",
    "    df = df.copy()\n",
    "    idents_ids = list(idents.keys())\n",
    "    idents_names = list(idents.values())\n",
    "    df = df[df['name'].isin(idents_ids)]\n",
    "    df = df.set_index('name')\n",
    "    df = df.reindex(idents_ids)\n",
    "    df = df.reset_index()\n",
    "    df['name'] = df['name'].replace(idents_ids, idents_names)    \n",
    "    df = df.rename(columns={'name': table_id})\n",
    "    df = df.reset_index(drop=True)\n",
    "    return html.Div(\n",
    "        dash_table.DataTable(\n",
    "            id=table_id,\n",
    "            columns=[{\"name\": i, \"id\": i} for i in df.columns],\n",
    "            data=df.to_dict('records'),\n",
    "        ),\n",
    "        style={'margin-bottom': '20px'})\n",
    "    \n",
    "    "
   ]
  }
 ],
 "metadata": {
  "kernelspec": {
   "display_name": "base",
   "language": "python",
   "name": "python3"
  },
  "language_info": {
   "codemirror_mode": {
    "name": "ipython",
    "version": 3
   },
   "file_extension": ".py",
   "mimetype": "text/x-python",
   "name": "python",
   "nbconvert_exporter": "python",
   "pygments_lexer": "ipython3",
   "version": "3.11.5"
  }
 },
 "nbformat": 4,
 "nbformat_minor": 2
}
